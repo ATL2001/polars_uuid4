{
 "cells": [
  {
   "cell_type": "markdown",
   "metadata": {},
   "source": [
    "## Polars fast UUID4 string generation"
   ]
  },
  {
   "cell_type": "code",
   "execution_count": 1,
   "metadata": {},
   "outputs": [],
   "source": [
    "import polars as pl\n",
    "import polars.selectors as cs\n",
    "import numpy as np\n",
    "import uuid\n",
    "\n",
    "import polars_uuid4"
   ]
  },
  {
   "cell_type": "code",
   "execution_count": 2,
   "metadata": {},
   "outputs": [
    {
     "data": {
      "text/plain": [
       "'0.20.3'"
      ]
     },
     "execution_count": 2,
     "metadata": {},
     "output_type": "execute_result"
    }
   ],
   "source": [
    "pl.__version__"
   ]
  },
  {
   "cell_type": "markdown",
   "metadata": {},
   "source": [
    "##### Make dataframe of with 10 million random numbers"
   ]
  },
  {
   "cell_type": "code",
   "execution_count": 3,
   "metadata": {},
   "outputs": [
    {
     "data": {
      "text/html": [
       "<div><style>\n",
       ".dataframe > thead > tr,\n",
       ".dataframe > tbody > tr {\n",
       "  text-align: right;\n",
       "  white-space: pre-wrap;\n",
       "}\n",
       "</style>\n",
       "<small>shape: (5, 3)</small><table border=\"1\" class=\"dataframe\"><thead><tr><th>row_nr</th><th>Random numbers</th><th>A string column</th></tr><tr><td>u32</td><td>f64</td><td>str</td></tr></thead><tbody><tr><td>9999995</td><td>0.410216</td><td>&quot;value&quot;</td></tr><tr><td>9999996</td><td>0.072977</td><td>&quot;value&quot;</td></tr><tr><td>9999997</td><td>0.763713</td><td>&quot;value&quot;</td></tr><tr><td>9999998</td><td>0.536438</td><td>&quot;value&quot;</td></tr><tr><td>9999999</td><td>0.703031</td><td>&quot;value&quot;</td></tr></tbody></table></div>"
      ],
      "text/plain": [
       "shape: (5, 3)\n",
       "┌─────────┬────────────────┬─────────────────┐\n",
       "│ row_nr  ┆ Random numbers ┆ A string column │\n",
       "│ ---     ┆ ---            ┆ ---             │\n",
       "│ u32     ┆ f64            ┆ str             │\n",
       "╞═════════╪════════════════╪═════════════════╡\n",
       "│ 9999995 ┆ 0.410216       ┆ value           │\n",
       "│ 9999996 ┆ 0.072977       ┆ value           │\n",
       "│ 9999997 ┆ 0.763713       ┆ value           │\n",
       "│ 9999998 ┆ 0.536438       ┆ value           │\n",
       "│ 9999999 ┆ 0.703031       ┆ value           │\n",
       "└─────────┴────────────────┴─────────────────┘"
      ]
     },
     "execution_count": 3,
     "metadata": {},
     "output_type": "execute_result"
    }
   ],
   "source": [
    "df = pl.DataFrame({\n",
    "    'Random numbers': np.random.rand(10000000),\n",
    "    'A string column': \"value\",\n",
    "}).with_row_count()\n",
    "df.tail()"
   ]
  },
  {
   "cell_type": "markdown",
   "metadata": {},
   "source": [
    "##### Create 10 million UUID4s\n",
    " * with_uuid4() accepts a variable so you can set the name of the series, defaults to uuid"
   ]
  },
  {
   "cell_type": "code",
   "execution_count": 4,
   "metadata": {},
   "outputs": [
    {
     "data": {
      "text/html": [
       "<div><style>\n",
       ".dataframe > thead > tr,\n",
       ".dataframe > tbody > tr {\n",
       "  text-align: right;\n",
       "  white-space: pre-wrap;\n",
       "}\n",
       "</style>\n",
       "<small>shape: (10_000_000, 4)</small><table border=\"1\" class=\"dataframe\"><thead><tr><th>row_nr</th><th>Random numbers</th><th>A string column</th><th>uuid</th></tr><tr><td>u32</td><td>f64</td><td>str</td><td>str</td></tr></thead><tbody><tr><td>0</td><td>0.758339</td><td>&quot;value&quot;</td><td>&quot;{3952aa21-0957…</td></tr><tr><td>1</td><td>0.04649</td><td>&quot;value&quot;</td><td>&quot;{0708f057-7e56…</td></tr><tr><td>2</td><td>0.498708</td><td>&quot;value&quot;</td><td>&quot;{e655242c-cad8…</td></tr><tr><td>3</td><td>0.726538</td><td>&quot;value&quot;</td><td>&quot;{dc0d153c-71bd…</td></tr><tr><td>4</td><td>0.161975</td><td>&quot;value&quot;</td><td>&quot;{efef8d80-b8d0…</td></tr><tr><td>5</td><td>0.391948</td><td>&quot;value&quot;</td><td>&quot;{6b8f3261-3554…</td></tr><tr><td>6</td><td>0.341304</td><td>&quot;value&quot;</td><td>&quot;{5b1b6c85-96dd…</td></tr><tr><td>7</td><td>0.965395</td><td>&quot;value&quot;</td><td>&quot;{414e16d9-5c73…</td></tr><tr><td>8</td><td>0.689368</td><td>&quot;value&quot;</td><td>&quot;{ccbacf05-2857…</td></tr><tr><td>9</td><td>0.628131</td><td>&quot;value&quot;</td><td>&quot;{cb402ac3-3bfe…</td></tr><tr><td>10</td><td>0.643579</td><td>&quot;value&quot;</td><td>&quot;{5ba78915-fff1…</td></tr><tr><td>11</td><td>0.939639</td><td>&quot;value&quot;</td><td>&quot;{262364fb-534d…</td></tr><tr><td>&hellip;</td><td>&hellip;</td><td>&hellip;</td><td>&hellip;</td></tr><tr><td>9999988</td><td>0.512794</td><td>&quot;value&quot;</td><td>&quot;{c67f2d3b-fd65…</td></tr><tr><td>9999989</td><td>0.108904</td><td>&quot;value&quot;</td><td>&quot;{7107720a-9b12…</td></tr><tr><td>9999990</td><td>0.834744</td><td>&quot;value&quot;</td><td>&quot;{8447f2f4-b763…</td></tr><tr><td>9999991</td><td>0.987605</td><td>&quot;value&quot;</td><td>&quot;{aae4b490-ba50…</td></tr><tr><td>9999992</td><td>0.973912</td><td>&quot;value&quot;</td><td>&quot;{aa698d5c-6970…</td></tr><tr><td>9999993</td><td>0.82106</td><td>&quot;value&quot;</td><td>&quot;{59cf6971-aae2…</td></tr><tr><td>9999994</td><td>0.080472</td><td>&quot;value&quot;</td><td>&quot;{c5d4edc6-68d4…</td></tr><tr><td>9999995</td><td>0.410216</td><td>&quot;value&quot;</td><td>&quot;{e6619727-4d97…</td></tr><tr><td>9999996</td><td>0.072977</td><td>&quot;value&quot;</td><td>&quot;{dc162d63-8bee…</td></tr><tr><td>9999997</td><td>0.763713</td><td>&quot;value&quot;</td><td>&quot;{361df98d-259e…</td></tr><tr><td>9999998</td><td>0.536438</td><td>&quot;value&quot;</td><td>&quot;{fd538ddf-7b46…</td></tr><tr><td>9999999</td><td>0.703031</td><td>&quot;value&quot;</td><td>&quot;{5fc43590-f343…</td></tr></tbody></table></div>"
      ],
      "text/plain": [
       "shape: (10_000_000, 4)\n",
       "┌─────────┬────────────────┬─────────────────┬───────────────────────────────────┐\n",
       "│ row_nr  ┆ Random numbers ┆ A string column ┆ uuid                              │\n",
       "│ ---     ┆ ---            ┆ ---             ┆ ---                               │\n",
       "│ u32     ┆ f64            ┆ str             ┆ str                               │\n",
       "╞═════════╪════════════════╪═════════════════╪═══════════════════════════════════╡\n",
       "│ 0       ┆ 0.758339       ┆ value           ┆ {3952aa21-0957-42c7-b69d-2e44787… │\n",
       "│ 1       ┆ 0.04649        ┆ value           ┆ {0708f057-7e56-4fe9-945a-be2602c… │\n",
       "│ 2       ┆ 0.498708       ┆ value           ┆ {e655242c-cad8-4c35-8c8a-8438612… │\n",
       "│ 3       ┆ 0.726538       ┆ value           ┆ {dc0d153c-71bd-44a8-acc6-8ab4e20… │\n",
       "│ …       ┆ …              ┆ …               ┆ …                                 │\n",
       "│ 9999996 ┆ 0.072977       ┆ value           ┆ {dc162d63-8bee-4762-b7bc-8684c43… │\n",
       "│ 9999997 ┆ 0.763713       ┆ value           ┆ {361df98d-259e-4ede-99e8-2dccb9b… │\n",
       "│ 9999998 ┆ 0.536438       ┆ value           ┆ {fd538ddf-7b46-4d7a-95a3-b954269… │\n",
       "│ 9999999 ┆ 0.703031       ┆ value           ┆ {5fc43590-f343-4b55-a0ee-153baa2… │\n",
       "└─────────┴────────────────┴─────────────────┴───────────────────────────────────┘"
      ]
     },
     "execution_count": 4,
     "metadata": {},
     "output_type": "execute_result"
    }
   ],
   "source": [
    "df.uuid.with_uuid4()"
   ]
  },
  {
   "cell_type": "markdown",
   "metadata": {},
   "source": [
    "#### Works with a lazy frame too"
   ]
  },
  {
   "cell_type": "code",
   "execution_count": 5,
   "metadata": {},
   "outputs": [
    {
     "data": {
      "text/html": [
       "<div><style>\n",
       ".dataframe > thead > tr,\n",
       ".dataframe > tbody > tr {\n",
       "  text-align: right;\n",
       "  white-space: pre-wrap;\n",
       "}\n",
       "</style>\n",
       "<small>shape: (5, 4)</small><table border=\"1\" class=\"dataframe\"><thead><tr><th>row_nr</th><th>Random numbers</th><th>A string column</th><th>uuid</th></tr><tr><td>u32</td><td>f64</td><td>str</td><td>str</td></tr></thead><tbody><tr><td>9999995</td><td>0.313736</td><td>&quot;value&quot;</td><td>&quot;{a7a4d264-da44…</td></tr><tr><td>9999996</td><td>0.833383</td><td>&quot;value&quot;</td><td>&quot;{71fd5366-c708…</td></tr><tr><td>9999997</td><td>0.5506</td><td>&quot;value&quot;</td><td>&quot;{294ec201-2df2…</td></tr><tr><td>9999998</td><td>0.339044</td><td>&quot;value&quot;</td><td>&quot;{2fbde60d-a46e…</td></tr><tr><td>9999999</td><td>0.896245</td><td>&quot;value&quot;</td><td>&quot;{1673458a-565e…</td></tr></tbody></table></div>"
      ],
      "text/plain": [
       "shape: (5, 4)\n",
       "┌─────────┬────────────────┬─────────────────┬───────────────────────────────────┐\n",
       "│ row_nr  ┆ Random numbers ┆ A string column ┆ uuid                              │\n",
       "│ ---     ┆ ---            ┆ ---             ┆ ---                               │\n",
       "│ u32     ┆ f64            ┆ str             ┆ str                               │\n",
       "╞═════════╪════════════════╪═════════════════╪═══════════════════════════════════╡\n",
       "│ 9999995 ┆ 0.313736       ┆ value           ┆ {a7a4d264-da44-4260-bbbb-44fd681… │\n",
       "│ 9999996 ┆ 0.833383       ┆ value           ┆ {71fd5366-c708-45b9-bd09-115b23e… │\n",
       "│ 9999997 ┆ 0.5506         ┆ value           ┆ {294ec201-2df2-4001-a844-bff33f6… │\n",
       "│ 9999998 ┆ 0.339044       ┆ value           ┆ {2fbde60d-a46e-4108-9320-dec9b4f… │\n",
       "│ 9999999 ┆ 0.896245       ┆ value           ┆ {1673458a-565e-41b2-8f54-9d1b832… │\n",
       "└─────────┴────────────────┴─────────────────┴───────────────────────────────────┘"
      ]
     },
     "execution_count": 5,
     "metadata": {},
     "output_type": "execute_result"
    }
   ],
   "source": [
    "df = pl.LazyFrame({\n",
    "    'Random numbers': np.random.rand(10000000),\n",
    "    'A string column': \"value\",\n",
    "}).with_row_count().uuid.with_uuid4().collect()\n",
    "df.tail()"
   ]
  },
  {
   "cell_type": "markdown",
   "metadata": {},
   "source": [
    "##### My old way to generate a UUID4 for each row\n",
    "  * Gets job done.  Creates a UUID4 for each row.\n",
    "  * Uses python uuid module.\n",
    "  * Takes a long time (in the polars world).\n",
    "    * 20.7 s ± 91 ms per loop (mean ± std. dev. of 7 runs, 1 loop each)"
   ]
  },
  {
   "cell_type": "code",
   "execution_count": 6,
   "metadata": {},
   "outputs": [
    {
     "name": "stdout",
     "output_type": "stream",
     "text": [
      "20.4 s ± 225 ms per loop (mean ± std. dev. of 7 runs, 1 loop each)\n"
     ]
    }
   ],
   "source": [
    "%%timeit\n",
    "uuids = [\"{\"+str(uuid.uuid4())+\"}\" for i in range(len(df))]\n",
    "uuid_series = pl.Series(name=\"python_UUID\", values=uuids)\n",
    "df.with_columns(\n",
    "    uuid_series\n",
    ")"
   ]
  },
  {
   "cell_type": "markdown",
   "metadata": {},
   "source": [
    "##### Using pl_uuid to generate a UUID4 for each row \n",
    "  * Gets job done.  Creates a UUID4 for each row.\n",
    "  * Uses rust uuid crate.\n",
    "  * Much easier to understand/simpler code.\n",
    "  * ~ 40x faster than using python's uuid module to generate UUID4 when the last column in the df is already a string\n",
    "  * 540 ms ± 6.1 ms per loop (mean ± std. dev. of 7 runs, 1 loop each)"
   ]
  },
  {
   "cell_type": "code",
   "execution_count": 7,
   "metadata": {},
   "outputs": [
    {
     "name": "stdout",
     "output_type": "stream",
     "text": [
      "540 ms ± 6.1 ms per loop (mean ± std. dev. of 7 runs, 1 loop each)\n"
     ]
    }
   ],
   "source": [
    "%%timeit\n",
    "df.uuid.with_uuid4()"
   ]
  },
  {
   "cell_type": "markdown",
   "metadata": {},
   "source": [
    "##### Not quite as fast if there isnt an existing string column in the dataframe\n",
    "  * 656 ms ± 6.66 ms per loop (mean ± std. dev. of 7 runs, 1 loop each)"
   ]
  },
  {
   "cell_type": "code",
   "execution_count": 8,
   "metadata": {},
   "outputs": [
    {
     "data": {
      "text/html": [
       "<div><style>\n",
       ".dataframe > thead > tr,\n",
       ".dataframe > tbody > tr {\n",
       "  text-align: right;\n",
       "  white-space: pre-wrap;\n",
       "}\n",
       "</style>\n",
       "<small>shape: (5, 2)</small><table border=\"1\" class=\"dataframe\"><thead><tr><th>row_nr</th><th>Random numbers</th></tr><tr><td>u32</td><td>f64</td></tr></thead><tbody><tr><td>9999995</td><td>0.334474</td></tr><tr><td>9999996</td><td>0.006089</td></tr><tr><td>9999997</td><td>0.295484</td></tr><tr><td>9999998</td><td>0.065312</td></tr><tr><td>9999999</td><td>0.644697</td></tr></tbody></table></div>"
      ],
      "text/plain": [
       "shape: (5, 2)\n",
       "┌─────────┬────────────────┐\n",
       "│ row_nr  ┆ Random numbers │\n",
       "│ ---     ┆ ---            │\n",
       "│ u32     ┆ f64            │\n",
       "╞═════════╪════════════════╡\n",
       "│ 9999995 ┆ 0.334474       │\n",
       "│ 9999996 ┆ 0.006089       │\n",
       "│ 9999997 ┆ 0.295484       │\n",
       "│ 9999998 ┆ 0.065312       │\n",
       "│ 9999999 ┆ 0.644697       │\n",
       "└─────────┴────────────────┘"
      ]
     },
     "execution_count": 8,
     "metadata": {},
     "output_type": "execute_result"
    }
   ],
   "source": [
    "df = pl.DataFrame({\n",
    "    'Random numbers': np.random.rand(10000000),\n",
    "}).with_row_count()\n",
    "df.tail()"
   ]
  },
  {
   "cell_type": "code",
   "execution_count": 9,
   "metadata": {},
   "outputs": [
    {
     "name": "stdout",
     "output_type": "stream",
     "text": [
      "656 ms ± 6.66 ms per loop (mean ± std. dev. of 7 runs, 1 loop each)\n"
     ]
    }
   ],
   "source": [
    "%%timeit\n",
    "df.uuid.with_uuid4()"
   ]
  },
  {
   "cell_type": "code",
   "execution_count": null,
   "metadata": {},
   "outputs": [],
   "source": []
  }
 ],
 "metadata": {
  "kernelspec": {
   "display_name": "Python 3",
   "language": "python",
   "name": "python3"
  },
  "language_info": {
   "codemirror_mode": {
    "name": "ipython",
    "version": 3
   },
   "file_extension": ".py",
   "mimetype": "text/x-python",
   "name": "python",
   "nbconvert_exporter": "python",
   "pygments_lexer": "ipython3",
   "version": "3.9.18"
  }
 },
 "nbformat": 4,
 "nbformat_minor": 2
}
